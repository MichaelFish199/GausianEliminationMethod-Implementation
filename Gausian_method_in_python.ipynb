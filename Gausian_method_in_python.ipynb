{
 "cells": [
  {
   "cell_type": "code",
   "execution_count": 1,
   "id": "b04e754f",
   "metadata": {},
   "outputs": [],
   "source": [
    "from copy import deepcopy"
   ]
  },
  {
   "cell_type": "code",
   "execution_count": 8,
   "id": "0e747eef",
   "metadata": {},
   "outputs": [],
   "source": [
    "def czy_tozsama(macierz):   # funkcja sprawdzająca czy macierz jest tożsama(jednostkowa)\n",
    "    for i in range(len(macierz)):\n",
    "        for j in range(len(macierz)):\n",
    "            if i == j and macierz[i][j] != 1:\n",
    "                return False\n",
    "            elif i != j and macierz[i][j] != 0:\n",
    "                return False\n",
    "    return True"
   ]
  },
  {
   "cell_type": "code",
   "execution_count": 9,
   "id": "d8005a9c",
   "metadata": {},
   "outputs": [],
   "source": [
    "def laczenie_w_jedna_macierz(macierz_1, rownosci):\n",
    "    z = 0\n",
    "    for j in macierz_1:\n",
    "        j.append(rownosci[z])\n",
    "        z += 1\n",
    "\n",
    "    return macierz_1"
   ]
  },
  {
   "cell_type": "code",
   "execution_count": 10,
   "id": "4c80d65e",
   "metadata": {},
   "outputs": [],
   "source": [
    "def wyniki(macierz):\n",
    "    nazwy = [\"x\", \"y\", \"z\", \"w\", \"v\", \"u\", \"t\", \"s\", \"r\", \"q\"]\n",
    "    G = []\n",
    "    for i, j in zip(macierz, nazwy):\n",
    "        G.append(f\"{j} = {i[-1]}\")\n",
    "    return G"
   ]
  },
  {
   "cell_type": "code",
   "execution_count": 11,
   "id": "35e30aa7",
   "metadata": {},
   "outputs": [],
   "source": [
    "def Obliczania_Macierzy_Metoda_Gaussa(macierz_A, rownosci):\n",
    "    macierz_A = laczenie_w_jedna_macierz(macierz_A, rownosci)\n",
    "    zmienna_1 = 0\n",
    "    zmienna_2 = 1\n",
    "    for i, j in enumerate(macierz_A):\n",
    "        if j[0] == 1:  # sprawdzenie czy pierwsza liczba jakimś wierszu nie jest jedynką\n",
    "            macierz_A[i], macierz_A[0] = macierz_A[0], macierz_A[i]  # jeśli tak to zamniamy wiersze\n",
    "\n",
    "    while not czy_tozsama(macierz_A):\n",
    "\n",
    "        macierz_B = deepcopy(macierz_A)  # zapis kopii macierzy w zmiennej macierz_B\n",
    "\n",
    "        for i in range(0, len(macierz_A)):  # pętla iterująca przez ilość wierszy\n",
    "            if i == zmienna_1:  #pomijanie jednego z wierszy\n",
    "                continue\n",
    "            for j in range(len([j for j in macierz_A[0]])):  # pętla iterująca przez ilość kolumn\n",
    "                macierz_B[i][j] = macierz_A[i][j] - (macierz_A[i][zmienna_1] * macierz_A[zmienna_1][j])  # działanie polegające na eliminacji Gaussa i zapisie wuniku w macierzy B\n",
    "\n",
    "        macierz_A = deepcopy(macierz_B)  # zapis kopii macierzy w zmiennej macierz_A\n",
    "        if czy_tozsama(macierz_A):\n",
    "            break\n",
    "\n",
    "        for i in range(len([j for j in macierz_A[0]])):  #pętla o długości wierszy w matrixie\n",
    "            macierz_A[zmienna_2][i] = float(macierz_B[zmienna_2][i] / macierz_B[zmienna_2][zmienna_2])   # działanie polegające na eliminacji Gaussa i zapisie wuniku w macierzy A\n",
    "\n",
    "        zmienna_1 += 1\n",
    "        zmienna_2 += 1\n",
    "\n",
    "    return wyniki(macierz_A)"
   ]
  },
  {
   "cell_type": "code",
   "execution_count": 12,
   "id": "8d9c66e1",
   "metadata": {},
   "outputs": [],
   "source": [
    "maciez_1, rownosci_1 = [[2, 2, 0], [1, -1, 1], [3, 0, -1]], [4, -1, 0]  # => 'x = 0.2', 'y = 1.8', 'z = 0.6'        działa\n",
    "maciez_2, rownosci_2 = [[3, 2, 1], [0, 1, 0], [1, 1, 2]], [4, 1, 5]     # => 'x = 0.0', 'y = 1.0', 'z = 2.0'        działa\n",
    "maciez_3, rownosci_3 = [[1, 5], [-3, 6]], [2, 15]                       # => 'x = -3.0', 'y = 1.0'                  działa\n",
    "maciez_4, rownosci_4 = [[1, 2, 3], [-1, -1, 1], [1, 1, 1]], [2, 2, 0]   # => 'x = -1.', 'y = .0', 'z = 1.'          nie działa\n",
    "maciez_5, rownosci_5 = [[1, 1, -1], [2, -1, 1], [-1, 2, 2]], [-2, 5, 1] # => 'x = 1.0', 'y = -1.0', 'z = 2.0'       działa\n",
    "maciez_6, rownosci_6 = [[2, 1, -1], [1, -1, 1], [-3, 2, 0]], [2, -5, 17]# => 'x = -1.0', 'y = 7.0', 'z = 3.0'       działa\n",
    "maciez_7, rownosci_7 = [[1, 5, 0], [1, 2, -3], [2, 4, 1]], [1, -5, 4]   # => 'x = 1.0', 'y = 0.0', 'z = 2.0'        działa\n",
    "maciez_8, rownosci_8 = [[1, -1, 1], [2, 1, -2], [-1, -2, 3]], [1, 1, 0] # => ''                                     nie działa\n",
    "maciez_9, rownosci_9 = [[9, 2, 3], [1, 12, 9], [4, 6, 14]], [7, 2, 1]   # => 'x = 0.805', 'y = 0.322', 'z = -0.296' działa"
    "maciez_10, rownosci_10 = [[4, -3, 1], [-2, 1, -3], [1, -1, 2]], [-8, -4, 3]   # => 'x = 2', 'y = 1', 'z = 3'        działa"
   ]
  },
  {
   "cell_type": "code",
   "execution_count": 13,
   "id": "7bdad3fb",
   "metadata": {},
   "outputs": [
    {
     "name": "stdout",
     "output_type": "stream",
     "text": [
      "['x = 0.2', 'y = 1.8', 'z = 0.6']\n"
     ]
    }
   ],
   "source": [
    "func = Obliczania_Macierzy_Metoda_Gaussa(maciez_1, rownosci_1)\n",
    "print(func)"
   ]
  }
 ],
 "metadata": {
  "kernelspec": {
   "display_name": "Python 3",
   "language": "python",
   "name": "python3"
  },
  "language_info": {
   "codemirror_mode": {
    "name": "ipython",
    "version": 3
   },
   "file_extension": ".py",
   "mimetype": "text/x-python",
   "name": "python",
   "nbconvert_exporter": "python",
   "pygments_lexer": "ipython3",
   "version": "3.8.8"
  }
 },
 "nbformat": 4,
 "nbformat_minor": 5
}
